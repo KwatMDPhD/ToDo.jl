{
 "cells": [
  {
   "cell_type": "code",
   "execution_count": 1,
   "id": "d01f93eb",
   "metadata": {},
   "outputs": [
    {
     "name": "stdout",
     "output_type": "stream",
     "text": [
      "Made /Users/kwat/Downloads/TensorFunction.test/.\n"
     ]
    }
   ],
   "source": [
    "TE = joinpath(homedir(), \"Downloads\", \"TensorFunction.test\", \"\")\n",
    "\n",
    "if isdir(TE)\n",
    "\n",
    "    rm(TE; recursive = true)\n",
    "\n",
    "end\n",
    "\n",
    "mkdir(TE)\n",
    "\n",
    "println(\"Made \", TE, \".\")"
   ]
  },
  {
   "cell_type": "code",
   "execution_count": 2,
   "id": "202447f6",
   "metadata": {},
   "outputs": [],
   "source": [
    "using Revise"
   ]
  },
  {
   "cell_type": "markdown",
   "id": "675a5968",
   "metadata": {},
   "source": [
    "---"
   ]
  },
  {
   "cell_type": "code",
   "execution_count": 3,
   "id": "b3325ba2-989b-48ae-b530-5d0f64147f9a",
   "metadata": {
    "execution": {
     "iopub.execute_input": "2021-10-14T18:25:54.055222Z",
     "iopub.status.busy": "2021-10-14T18:25:53.342490Z",
     "iopub.status.idle": "2021-10-14T18:26:10.352867Z",
     "shell.execute_reply": "2021-10-14T18:26:10.352370Z"
    }
   },
   "outputs": [
    {
     "name": "stderr",
     "output_type": "stream",
     "text": [
      "┌ Info: Precompiling TensorFunction [7b8185a8-3a2a-4818-8ce3-c04382ef042b]\n",
      "└ @ Base loading.jl:1342\n"
     ]
    }
   ],
   "source": [
    "using TensorFunction"
   ]
  },
  {
   "cell_type": "markdown",
   "id": "a4f49444",
   "metadata": {},
   "source": [
    "## apply"
   ]
  },
  {
   "cell_type": "code",
   "execution_count": 4,
   "id": "ed8f544c",
   "metadata": {},
   "outputs": [
    {
     "data": {
      "text/plain": [
       "2"
      ]
     },
     "execution_count": 4,
     "metadata": {},
     "output_type": "execute_result"
    }
   ],
   "source": [
    "n_ro = 5\n",
    "\n",
    "n_co = 4\n",
    "\n",
    "n_ze = convert(Int64, n_co / 2)\n",
    "\n",
    "n_on = n_co - n_ze"
   ]
  },
  {
   "cell_type": "code",
   "execution_count": 5,
   "id": "2c8afdbb",
   "metadata": {},
   "outputs": [
    {
     "data": {
      "text/plain": [
       "4-element BitVector:\n",
       " 0\n",
       " 0\n",
       " 1\n",
       " 1"
      ]
     },
     "execution_count": 5,
     "metadata": {},
     "output_type": "execute_result"
    }
   ],
   "source": [
    "bi_ = convert(BitVector, [zeros(n_ze); ones(n_on)])"
   ]
  },
  {
   "cell_type": "code",
   "execution_count": 6,
   "id": "1d5ca8fb",
   "metadata": {},
   "outputs": [
    {
     "data": {
      "text/plain": [
       "4-element Vector{Float64}:\n",
       "    1.0\n",
       "   10.0\n",
       "  100.0\n",
       " 1000.0"
      ]
     },
     "execution_count": 6,
     "metadata": {},
     "output_type": "execute_result"
    }
   ],
   "source": [
    "ve = convert(Vector{Float64}, [10^(id - 1) for id = 1:n_co])"
   ]
  },
  {
   "cell_type": "code",
   "execution_count": 7,
   "id": "6dcd60c6",
   "metadata": {},
   "outputs": [
    {
     "data": {
      "text/plain": [
       "5×4 Matrix{Float64}:\n",
       " 1.0   6.0  11.0  16.0\n",
       " 2.0   7.0  12.0  17.0\n",
       " 3.0   8.0  13.0  18.0\n",
       " 4.0   9.0  14.0  19.0\n",
       " 5.0  10.0  15.0  20.0"
      ]
     },
     "execution_count": 7,
     "metadata": {},
     "output_type": "execute_result"
    }
   ],
   "source": [
    "ma = convert(Matrix{Float64}, reshape(1:n_ro*n_co, (n_ro, n_co)))"
   ]
  },
  {
   "cell_type": "code",
   "execution_count": 8,
   "id": "7be150a0",
   "metadata": {},
   "outputs": [
    {
     "data": {
      "text/plain": [
       "2-element Vector{Float64}:\n",
       "   100.0\n",
       " 10000.0"
      ]
     },
     "execution_count": 8,
     "metadata": {},
     "output_type": "execute_result"
    }
   ],
   "source": [
    "apply(bi_, ve, .*)"
   ]
  },
  {
   "cell_type": "code",
   "execution_count": 9,
   "id": "bc844dc0",
   "metadata": {},
   "outputs": [
    {
     "data": {
      "text/plain": [
       "5-element Vector{Any}:\n",
       " [1.0, 60.0, 1100.0, 16000.0]\n",
       " [2.0, 70.0, 1200.0, 17000.0]\n",
       " [3.0, 80.0, 1300.0, 18000.0]\n",
       " [4.0, 90.0, 1400.0, 19000.0]\n",
       " [5.0, 100.0, 1500.0, 20000.0]"
      ]
     },
     "execution_count": 9,
     "metadata": {},
     "output_type": "execute_result"
    }
   ],
   "source": [
    "apply(ve, ma, .*)"
   ]
  },
  {
   "cell_type": "code",
   "execution_count": 10,
   "id": "1ff54e7b",
   "metadata": {},
   "outputs": [
    {
     "data": {
      "text/plain": [
       "5-element Vector{Any}:\n",
       " [11.0, 96.0]\n",
       " [24.0, 119.0]\n",
       " [39.0, 144.0]\n",
       " [56.0, 171.0]\n",
       " [75.0, 200.0]"
      ]
     },
     "execution_count": 10,
     "metadata": {},
     "output_type": "execute_result"
    }
   ],
   "source": [
    "apply(bi_, ma, .*)"
   ]
  },
  {
   "cell_type": "code",
   "execution_count": 11,
   "id": "bd0b8dd5",
   "metadata": {},
   "outputs": [
    {
     "data": {
      "text/plain": [
       "5×5 Matrix{Any}:\n",
       " 1.0  1.0  1.0  1.0  1.0\n",
       " 1.0  2.0  2.0  2.0  2.0\n",
       " 1.0  2.0  3.0  3.0  3.0\n",
       " 1.0  2.0  3.0  4.0  4.0\n",
       " 1.0  2.0  3.0  4.0  5.0"
      ]
     },
     "execution_count": 11,
     "metadata": {},
     "output_type": "execute_result"
    }
   ],
   "source": [
    "apply(ma, ma, (ro1, ro2) -> minimum([ro1; ro2]))"
   ]
  },
  {
   "cell_type": "markdown",
   "id": "2d257fab",
   "metadata": {},
   "source": [
    "---"
   ]
  },
  {
   "cell_type": "code",
   "execution_count": 12,
   "id": "0acabc2d",
   "metadata": {},
   "outputs": [
    {
     "name": "stdout",
     "output_type": "stream",
     "text": [
      "Removed /Users/kwat/Downloads/TensorFunction.test/.\n"
     ]
    }
   ],
   "source": [
    "rm(TE; recursive = true)\n",
    "\n",
    "println(\"Removed \", TE, \".\")"
   ]
  }
 ],
 "metadata": {
  "@webio": {
   "lastCommId": null,
   "lastKernelId": null
  },
  "kernelspec": {
   "display_name": "Julia 1.6.3",
   "language": "julia",
   "name": "julia-1.6"
  },
  "language_info": {
   "file_extension": ".jl",
   "mimetype": "application/julia",
   "name": "julia",
   "version": "1.6.3"
  }
 },
 "nbformat": 4,
 "nbformat_minor": 5
}
