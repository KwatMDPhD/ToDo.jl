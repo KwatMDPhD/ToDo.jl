{
 "cells": [
  {
   "cell_type": "code",
   "execution_count": null,
   "id": "ad4fb98a",
   "metadata": {},
   "outputs": [],
   "source": [
    "TE = joinpath(tempdir(), \"TensorFunction.test\", \"\")\n",
    "\n",
    "if isdir(TE)\n",
    "\n",
    "    rm(TE; recursive = true)\n",
    "\n",
    "end\n",
    "\n",
    "mkdir(TE)\n",
    "\n",
    "println(\"Made \", TE)"
   ]
  },
  {
   "cell_type": "code",
   "execution_count": null,
   "id": "34e4701e",
   "metadata": {},
   "outputs": [],
   "source": [
    "using Revise\n",
    "using BenchmarkTools"
   ]
  },
  {
   "cell_type": "markdown",
   "id": "349c228e",
   "metadata": {},
   "source": [
    "---"
   ]
  },
  {
   "cell_type": "code",
   "execution_count": null,
   "id": "b3325ba2-989b-48ae-b530-5d0f64147f9a",
   "metadata": {},
   "outputs": [],
   "source": [
    "using TensorFunction"
   ]
  },
  {
   "cell_type": "markdown",
   "id": "a4f49444",
   "metadata": {},
   "source": [
    "## apply"
   ]
  },
  {
   "cell_type": "code",
   "execution_count": null,
   "id": "ed8f544c",
   "metadata": {},
   "outputs": [],
   "source": [
    "n_ro = 5\n",
    "\n",
    "n_co = 4\n",
    "\n",
    "n_ze = convert(Int64, n_co / 2)\n",
    "\n",
    "n_on = n_co - n_ze"
   ]
  },
  {
   "cell_type": "code",
   "execution_count": null,
   "id": "2c8afdbb",
   "metadata": {},
   "outputs": [],
   "source": [
    "bi_ = convert(BitVector, [zeros(n_ze); ones(n_on)])"
   ]
  },
  {
   "cell_type": "code",
   "execution_count": null,
   "id": "1d5ca8fb",
   "metadata": {},
   "outputs": [],
   "source": [
    "ve = convert(Vector{Float64}, [10^(id - 1) for id in 1:n_co])"
   ]
  },
  {
   "cell_type": "code",
   "execution_count": null,
   "id": "6dcd60c6",
   "metadata": {},
   "outputs": [],
   "source": [
    "ma = convert(Matrix{Float64}, reshape(1:(n_ro * n_co), (n_ro, n_co)))"
   ]
  },
  {
   "cell_type": "code",
   "execution_count": null,
   "id": "7be150a0",
   "metadata": {},
   "outputs": [],
   "source": [
    "TensorFunction.apply(bi_, ve, .*)"
   ]
  },
  {
   "cell_type": "code",
   "execution_count": null,
   "id": "bc844dc0",
   "metadata": {},
   "outputs": [],
   "source": [
    "TensorFunction.apply(ve, ma, .*)"
   ]
  },
  {
   "cell_type": "code",
   "execution_count": null,
   "id": "1ff54e7b",
   "metadata": {},
   "outputs": [],
   "source": [
    "TensorFunction.apply(bi_, ma, .*)"
   ]
  },
  {
   "cell_type": "code",
   "execution_count": null,
   "id": "bd0b8dd5",
   "metadata": {},
   "outputs": [],
   "source": [
    "TensorFunction.apply(ma, ma, (ro1, ro2) -> minimum([ro1; ro2]))"
   ]
  },
  {
   "cell_type": "markdown",
   "id": "2d257fab",
   "metadata": {},
   "source": [
    "---"
   ]
  },
  {
   "cell_type": "code",
   "execution_count": null,
   "id": "b169202a",
   "metadata": {},
   "outputs": [],
   "source": [
    "rm(TE; recursive = true)\n",
    "\n",
    "println(\"Removed \", TE)"
   ]
  }
 ],
 "metadata": {
  "@webio": {
   "lastCommId": null,
   "lastKernelId": null
  },
  "kernelspec": {
   "display_name": "Julia 1.7.0",
   "language": "julia",
   "name": "julia-1.7"
  },
  "language_info": {
   "file_extension": ".jl",
   "mimetype": "application/julia",
   "name": "julia",
   "version": "1.7.2"
  }
 },
 "nbformat": 4,
 "nbformat_minor": 5
}
