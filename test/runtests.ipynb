{
 "cells": [
  {
   "cell_type": "code",
   "execution_count": null,
   "id": "a8384830",
   "metadata": {},
   "outputs": [],
   "source": [
    "TE = joinpath(tempdir(), \"ToDo.test\")\n",
    "\n",
    "if isdir(TE)\n",
    "\n",
    "    rm(TE, recursive = true)\n",
    "\n",
    "end\n",
    "\n",
    "mkdir(TE)"
   ]
  },
  {
   "cell_type": "code",
   "execution_count": null,
   "id": "ce40ef9e",
   "metadata": {},
   "outputs": [],
   "source": [
    "#using Revise\n",
    "using ToDo"
   ]
  },
  {
   "cell_type": "markdown",
   "id": "3fc8766e",
   "metadata": {},
   "source": [
    "---"
   ]
  },
  {
   "cell_type": "markdown",
   "id": "a77395db",
   "metadata": {},
   "source": [
    "---"
   ]
  }
 ],
 "metadata": {
  "@webio": {
   "lastCommId": null,
   "lastKernelId": null
  },
  "kernelspec": {
   "display_name": "Julia 1.7.3",
   "language": "julia",
   "name": "julia-1.7"
  },
  "language_info": {
   "file_extension": ".jl",
   "mimetype": "application/julia",
   "name": "julia",
   "version": "1.7.3"
  }
 },
 "nbformat": 4,
 "nbformat_minor": 5
}
